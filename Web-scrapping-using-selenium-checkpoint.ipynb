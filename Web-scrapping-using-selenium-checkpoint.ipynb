{
 "cells": [
  {
   "cell_type": "code",
   "execution_count": 1,
   "metadata": {},
   "outputs": [],
   "source": [
    "from selenium import webdriver\n",
    "import time\n",
    "import pandas as pd"
   ]
  },
  {
   "cell_type": "code",
   "execution_count": null,
   "metadata": {},
   "outputs": [],
   "source": [
    "FILE_PATH_FOLDER = 'D:'\n",
    "search_query = 'https://www.indeed.com/q-data-scientist-jobs.html'\n",
    "driver = webdriver.Chrome(executable_path='C:/Users/mk/Downloads/chromedriver_win32.zip/chromedriver.exe')\n",
    "job_details = []"
   ]
  },
  {
   "cell_type": "code",
   "execution_count": null,
   "metadata": {},
   "outputs": [],
   "source": [
    "driver.get(search_query)\n",
    "time.sleep(5)\n",
    "job_list = driver.find_elements_by_xpath(\"//div[@data-tn-component='organicJob']\")"
   ]
  },
  {
   "cell_type": "code",
   "execution_count": null,
   "metadata": {},
   "outputs": [],
   "source": [
    "for each_job in job_list:\n",
    "    job_title = each_job.find_elements_by_xpath(\".//h2[@class='title']/a\")[0]\n",
    "    job_company = each_job.find_elements_by_xpath(\".//span[@class='company']\")[0]\n",
    "    job_location = each_job.find_elements_by_xpath(\".//span[@class='location accessible-contrast-color-location']\")[0]\n",
    "    job_summary = each_job.find_elements_by_xpath(\".//div[@class='summary']\")[0]\n",
    "    job_publish_date = each_job.find_elements_by_xpath(\".//span[@class='date ']\")[0]\n",
    "    job_info = [job_title.text, job_company.text, job_location.text, job_summary.text, job_publish_date.text]\n",
    "    job_details.append(job_info)\n",
    "driver.quit()"
   ]
  },
  {
   "cell_type": "code",
   "execution_count": null,
   "metadata": {},
   "outputs": [],
   "source": [
    "job_details_df = pd.DataFrame(job_details)\n",
    "job_details_df.columns = ['title', 'company', 'location', 'summary', 'publish_date']\n",
    "job_details_df.to_csv('job_details.csv', index=False)"
   ]
  }
 ],
 "metadata": {
  "kernelspec": {
   "display_name": "Python 3",
   "language": "python",
   "name": "python3"
  },
  "language_info": {
   "codemirror_mode": {
    "name": "ipython",
    "version": 3
   },
   "file_extension": ".py",
   "mimetype": "text/x-python",
   "name": "python",
   "nbconvert_exporter": "python",
   "pygments_lexer": "ipython3",
   "version": "3.7.4"
  }
 },
 "nbformat": 4,
 "nbformat_minor": 4
}
